{
 "cells": [
  {
   "cell_type": "code",
   "execution_count": 71,
   "id": "fc0ab04c",
   "metadata": {},
   "outputs": [
    {
     "name": "stdout",
     "output_type": "stream",
     "text": [
      "941009\n",
      "69164\n",
      "32403\n"
     ]
    }
   ],
   "source": [
    "\n",
    "import pandas\n",
    "import numpy\n",
    "import sklearn.impute as impute\n",
    "import sklearn.preprocessing as preprocessing\n",
    "import sklearn.model_selection as modelsel\n",
    "import sklearn.tree as tree\n",
    "import sklearn.metrics as metrics\n",
    "import pydotplus\n",
    "import collections\n",
    "import sklearn\n",
    "from sklearn.utils import resample\n",
    "\n",
    "# LOAD DATA\n",
    "dirname = '/Users/rkadhikari/Desktop/Advanced_Machine_Learning/'\n",
    "#filename = 'Census_Supplement_sample.xlsx'\n",
    "filename = 'events.csv'\n",
    "df = pandas.read_csv(dirname + filename)\n",
    "print(len(df))\n",
    "df2= pandas.read_csv(dirname + filename)\n",
    "df = df.drop(['id_odsp', 'id_event', 'sort_order', 'text', 'side', 'event_team', \n",
    "              'opponent','player','player2','player_in','player_out',\"event_type\",\"event_type2\"], axis=1)\n",
    "df = df.dropna()\n",
    "df = df.drop_duplicates()\n",
    "\n",
    "print(len(df))\n",
    "\n",
    "L= [1,2,6,8,9,10]\n",
    "O= [2,3]\n",
    "df = df[~df.shot_place.isin(L)]\n",
    "df = df[~df.shot_outcome.isin(O)]\n",
    "print(len(df))"
   ]
  },
  {
   "cell_type": "code",
   "execution_count": 72,
   "id": "d02494e3",
   "metadata": {},
   "outputs": [],
   "source": [
    "indices2=df.index.values\n",
    "df3=df2.loc[indices2,]\n",
    "\n",
    "df3=df3.drop(['id_odsp', 'id_event', 'sort_order', 'text', 'side', 'event_team', \n",
    "              'opponent','player_in','player_out',\"player2\",\"event_type\",\"event_type2\"], axis=1)\n"
   ]
  },
  {
   "cell_type": "code",
   "execution_count": 73,
   "id": "51363077",
   "metadata": {},
   "outputs": [],
   "source": [
    "rating_data=pandas.read_csv(\"/Users/rkadhikari/Desktop/Advanced_Machine_Learning/archive/players_16.csv\")\n",
    "rating_data=rating_data.loc[:,[\"short_name\",\"overall\",\"shooting\"]]\n",
    "rating_data=rating_data.dropna()"
   ]
  },
  {
   "cell_type": "code",
   "execution_count": 74,
   "id": "1ecccd62",
   "metadata": {},
   "outputs": [],
   "source": [
    "def name_coverter(check):\n",
    "    check=check.lower()\n",
    "    first=check.split()[0]\n",
    "    last=check.split()[-1]\n",
    "    name=first[0]+\". \"+last\n",
    "    \n",
    "    return(name)\n",
    "\n",
    "import unidecode\n",
    "def remove_accents(a):\n",
    "    a=a.lower()\n",
    "    return unidecode.unidecode(a)"
   ]
  },
  {
   "cell_type": "code",
   "execution_count": 75,
   "id": "c3992507",
   "metadata": {},
   "outputs": [],
   "source": [
    "df3[\"player\"]=df3[\"player\"].apply(remove_accents)\n",
    "df3[\"player\"]=df3[\"player\"].apply(name_coverter)"
   ]
  },
  {
   "cell_type": "code",
   "execution_count": 76,
   "id": "4b9cf2e2",
   "metadata": {},
   "outputs": [
    {
     "data": {
      "text/html": [
       "<div>\n",
       "<style scoped>\n",
       "    .dataframe tbody tr th:only-of-type {\n",
       "        vertical-align: middle;\n",
       "    }\n",
       "\n",
       "    .dataframe tbody tr th {\n",
       "        vertical-align: top;\n",
       "    }\n",
       "\n",
       "    .dataframe thead th {\n",
       "        text-align: right;\n",
       "    }\n",
       "</style>\n",
       "<table border=\"1\" class=\"dataframe\">\n",
       "  <thead>\n",
       "    <tr style=\"text-align: right;\">\n",
       "      <th></th>\n",
       "      <th>short_name</th>\n",
       "      <th>overall</th>\n",
       "      <th>shooting</th>\n",
       "    </tr>\n",
       "  </thead>\n",
       "  <tbody>\n",
       "    <tr>\n",
       "      <th>0</th>\n",
       "      <td>l. messi</td>\n",
       "      <td>94</td>\n",
       "      <td>88.0</td>\n",
       "    </tr>\n",
       "    <tr>\n",
       "      <th>1</th>\n",
       "      <td>c. ronaldo</td>\n",
       "      <td>93</td>\n",
       "      <td>93.0</td>\n",
       "    </tr>\n",
       "    <tr>\n",
       "      <th>2</th>\n",
       "      <td>a. robben</td>\n",
       "      <td>90</td>\n",
       "      <td>86.0</td>\n",
       "    </tr>\n",
       "    <tr>\n",
       "      <th>4</th>\n",
       "      <td>l. suarez</td>\n",
       "      <td>90</td>\n",
       "      <td>88.0</td>\n",
       "    </tr>\n",
       "    <tr>\n",
       "      <th>5</th>\n",
       "      <td>e. hazard</td>\n",
       "      <td>89</td>\n",
       "      <td>82.0</td>\n",
       "    </tr>\n",
       "    <tr>\n",
       "      <th>...</th>\n",
       "      <td>...</td>\n",
       "      <td>...</td>\n",
       "      <td>...</td>\n",
       "    </tr>\n",
       "    <tr>\n",
       "      <th>15614</th>\n",
       "      <td>s. mcwilliams</td>\n",
       "      <td>44</td>\n",
       "      <td>41.0</td>\n",
       "    </tr>\n",
       "    <tr>\n",
       "      <th>15616</th>\n",
       "      <td>e. redman</td>\n",
       "      <td>44</td>\n",
       "      <td>19.0</td>\n",
       "    </tr>\n",
       "    <tr>\n",
       "      <th>15617</th>\n",
       "      <td>r. horne</td>\n",
       "      <td>44</td>\n",
       "      <td>40.0</td>\n",
       "    </tr>\n",
       "    <tr>\n",
       "      <th>15619</th>\n",
       "      <td>c. shephard</td>\n",
       "      <td>44</td>\n",
       "      <td>34.0</td>\n",
       "    </tr>\n",
       "    <tr>\n",
       "      <th>15621</th>\n",
       "      <td>s. warburton</td>\n",
       "      <td>44</td>\n",
       "      <td>28.0</td>\n",
       "    </tr>\n",
       "  </tbody>\n",
       "</table>\n",
       "<p>13924 rows × 3 columns</p>\n",
       "</div>"
      ],
      "text/plain": [
       "          short_name  overall  shooting\n",
       "0           l. messi       94      88.0\n",
       "1         c. ronaldo       93      93.0\n",
       "2          a. robben       90      86.0\n",
       "4          l. suarez       90      88.0\n",
       "5          e. hazard       89      82.0\n",
       "...              ...      ...       ...\n",
       "15614  s. mcwilliams       44      41.0\n",
       "15616      e. redman       44      19.0\n",
       "15617       r. horne       44      40.0\n",
       "15619    c. shephard       44      34.0\n",
       "15621   s. warburton       44      28.0\n",
       "\n",
       "[13924 rows x 3 columns]"
      ]
     },
     "execution_count": 76,
     "metadata": {},
     "output_type": "execute_result"
    }
   ],
   "source": [
    "rating_data['short_name'] =rating_data['short_name'].apply(remove_accents)\n",
    "rating_data['short_name']=rating_data[\"short_name\"].apply(name_coverter)\n",
    "rating_data"
   ]
  },
  {
   "cell_type": "code",
   "execution_count": 77,
   "id": "deaf9dbd",
   "metadata": {},
   "outputs": [],
   "source": [
    "df3[\"overall\"]=1\n",
    "df3[\"shot_rating\"]=1"
   ]
  },
  {
   "cell_type": "code",
   "execution_count": 78,
   "id": "a76d9a5a",
   "metadata": {},
   "outputs": [
    {
     "name": "stderr",
     "output_type": "stream",
     "text": [
      "/var/folders/pn/16f1xmgx2h7_0r2pxpt6z09c0000gn/T/ipykernel_23919/2377797292.py:9: SettingWithCopyWarning: \n",
      "A value is trying to be set on a copy of a slice from a DataFrame\n",
      "\n",
      "See the caveats in the documentation: https://pandas.pydata.org/pandas-docs/stable/user_guide/indexing.html#returning-a-view-versus-a-copy\n",
      "  df3[\"overall\"].iloc[i]=rating\n",
      "/var/folders/pn/16f1xmgx2h7_0r2pxpt6z09c0000gn/T/ipykernel_23919/2377797292.py:10: SettingWithCopyWarning: \n",
      "A value is trying to be set on a copy of a slice from a DataFrame\n",
      "\n",
      "See the caveats in the documentation: https://pandas.pydata.org/pandas-docs/stable/user_guide/indexing.html#returning-a-view-versus-a-copy\n",
      "  df3[\"shot_rating\"].iloc[i]=shot_rating\n"
     ]
    }
   ],
   "source": [
    "unavailable_count=0\n",
    "for i in range(len(df3[\"player\"])):\n",
    "    player_name=df3[\"player\"].iloc[i]\n",
    "    if (sum(rating_data[\"short_name\"]==player_name)):\n",
    "    \n",
    "        index2=rating_data[rating_data[\"short_name\"]==player_name].index.values[0]\n",
    "        rating=rating_data.loc[index2,\"overall\"]\n",
    "        shot_rating=rating_data.loc[index2,\"shooting\"]\n",
    "        df3[\"overall\"].iloc[i]=rating\n",
    "        df3[\"shot_rating\"].iloc[i]=shot_rating\n",
    "    else:\n",
    "        unavailable_count=unavailable_count+1\n",
    "\n",
    "     "
   ]
  },
  {
   "cell_type": "code",
   "execution_count": 80,
   "id": "0cbc4904",
   "metadata": {},
   "outputs": [
    {
     "name": "stdout",
     "output_type": "stream",
     "text": [
      "908\n",
      "6388\n"
     ]
    }
   ],
   "source": [
    "print(len(df3[df3[\"overall\"]==1][\"player\"].unique()))\n",
    "print(unavailable_count)"
   ]
  },
  {
   "cell_type": "markdown",
   "id": "8e51a43e",
   "metadata": {},
   "source": [
    "## fill missing player rating with 2015 fifa data"
   ]
  },
  {
   "cell_type": "code",
   "execution_count": 81,
   "id": "de0bfdb6",
   "metadata": {},
   "outputs": [],
   "source": [
    "check=[1]\n",
    "missing_df=df3[df3.overall.isin(check)]\n",
    "complete_df=df3[~df3.overall.isin(check)]"
   ]
  },
  {
   "cell_type": "code",
   "execution_count": 82,
   "id": "ea639b90",
   "metadata": {},
   "outputs": [],
   "source": [
    "rating_data15=pandas.read_csv(\"/Users/rkadhikari/Desktop/Advanced_Machine_Learning/archive/players_15.csv\")\n",
    "rating_data15=rating_data15.loc[:,[\"short_name\",\"overall\",\"shooting\"]]\n",
    "rating_data15=rating_data15.dropna()"
   ]
  },
  {
   "cell_type": "code",
   "execution_count": 83,
   "id": "ff0579cb",
   "metadata": {},
   "outputs": [],
   "source": [
    "rating_data15['short_name'] =rating_data15['short_name'].apply(remove_accents)\n",
    "rating_data15['short_name']=rating_data15[\"short_name\"].apply(name_coverter)\n"
   ]
  },
  {
   "cell_type": "code",
   "execution_count": 84,
   "id": "b69acb56",
   "metadata": {},
   "outputs": [
    {
     "name": "stderr",
     "output_type": "stream",
     "text": [
      "/var/folders/pn/16f1xmgx2h7_0r2pxpt6z09c0000gn/T/ipykernel_23919/584657005.py:9: SettingWithCopyWarning: \n",
      "A value is trying to be set on a copy of a slice from a DataFrame\n",
      "\n",
      "See the caveats in the documentation: https://pandas.pydata.org/pandas-docs/stable/user_guide/indexing.html#returning-a-view-versus-a-copy\n",
      "  missing_df[\"overall\"].iloc[i]=rating\n",
      "/var/folders/pn/16f1xmgx2h7_0r2pxpt6z09c0000gn/T/ipykernel_23919/584657005.py:10: SettingWithCopyWarning: \n",
      "A value is trying to be set on a copy of a slice from a DataFrame\n",
      "\n",
      "See the caveats in the documentation: https://pandas.pydata.org/pandas-docs/stable/user_guide/indexing.html#returning-a-view-versus-a-copy\n",
      "  missing_df[\"shot_rating\"].iloc[i]=shot_rating\n"
     ]
    }
   ],
   "source": [
    "unavailable_count=0\n",
    "for i in range(len(missing_df[\"player\"])):\n",
    "    player_name=missing_df[\"player\"].iloc[i]\n",
    "    if (sum(rating_data15[\"short_name\"]==player_name)):\n",
    "    \n",
    "        index2=rating_data15[rating_data15[\"short_name\"]==player_name].index.values[0]\n",
    "        rating=rating_data15.loc[index2,\"overall\"]\n",
    "        shot_rating=rating_data15.loc[index2,\"shooting\"]\n",
    "        missing_df[\"overall\"].iloc[i]=rating\n",
    "        missing_df[\"shot_rating\"].iloc[i]=shot_rating\n",
    "    else:\n",
    "        unavailable_count=unavailable_count+1"
   ]
  },
  {
   "cell_type": "code",
   "execution_count": 85,
   "id": "0768b220",
   "metadata": {},
   "outputs": [],
   "source": [
    "complete2_df=missing_df[~missing_df.overall.isin(check)]\n",
    "final_missing=missing_df[missing_df.overall.isin(check)]"
   ]
  },
  {
   "cell_type": "code",
   "execution_count": 86,
   "id": "10f657b5",
   "metadata": {},
   "outputs": [],
   "source": [
    "final_complete_data=pandas.concat([complete_df,complete2_df],axis=0)"
   ]
  },
  {
   "cell_type": "code",
   "execution_count": 87,
   "id": "4a4a556f",
   "metadata": {},
   "outputs": [
    {
     "data": {
      "text/plain": [
       "601"
      ]
     },
     "execution_count": 87,
     "metadata": {},
     "output_type": "execute_result"
    }
   ],
   "source": [
    "len(final_missing[final_missing[\"overall\"]==1][\"player\"].unique())"
   ]
  },
  {
   "cell_type": "code",
   "execution_count": 88,
   "id": "3b517b5e",
   "metadata": {},
   "outputs": [],
   "source": [
    "manual_filled=pandas.read_csv(\"manual_rating.csv\")\n",
    "manual_filled=manual_filled.drop(['Unnamed: 0','Unnamed: 4'],axis=1)\n",
    "\n",
    "\n",
    "manual_filled['player'] =manual_filled['player'].apply(remove_accents)\n",
    "manual_filled['player']=manual_filled[\"player\"].apply(name_coverter)\n"
   ]
  },
  {
   "cell_type": "code",
   "execution_count": 89,
   "id": "9a9bce11",
   "metadata": {},
   "outputs": [
    {
     "name": "stderr",
     "output_type": "stream",
     "text": [
      "/var/folders/pn/16f1xmgx2h7_0r2pxpt6z09c0000gn/T/ipykernel_23919/2008811854.py:9: SettingWithCopyWarning: \n",
      "A value is trying to be set on a copy of a slice from a DataFrame\n",
      "\n",
      "See the caveats in the documentation: https://pandas.pydata.org/pandas-docs/stable/user_guide/indexing.html#returning-a-view-versus-a-copy\n",
      "  final_missing[\"overall\"].iloc[i]=rating\n",
      "/var/folders/pn/16f1xmgx2h7_0r2pxpt6z09c0000gn/T/ipykernel_23919/2008811854.py:10: SettingWithCopyWarning: \n",
      "A value is trying to be set on a copy of a slice from a DataFrame\n",
      "\n",
      "See the caveats in the documentation: https://pandas.pydata.org/pandas-docs/stable/user_guide/indexing.html#returning-a-view-versus-a-copy\n",
      "  final_missing[\"shot_rating\"].iloc[i]=shot_rating\n"
     ]
    }
   ],
   "source": [
    "unavailable_count=0\n",
    "for i in range(len(final_missing[\"player\"])):\n",
    "    player_name=final_missing[\"player\"].iloc[i]\n",
    "    if (sum(manual_filled[\"player\"]==player_name)):\n",
    "    \n",
    "        index2=manual_filled[manual_filled[\"player\"]==player_name].index.values[0]\n",
    "        rating=manual_filled.loc[index2,\"overall\"]\n",
    "        shot_rating=manual_filled.loc[index2,\"shot_rating\"]\n",
    "        final_missing[\"overall\"].iloc[i]=rating\n",
    "        final_missing[\"shot_rating\"].iloc[i]=shot_rating\n",
    "    else:\n",
    "        unavailable_count=unavailable_count+1"
   ]
  },
  {
   "cell_type": "code",
   "execution_count": 96,
   "id": "10999b58",
   "metadata": {},
   "outputs": [],
   "source": [
    "final2_complete_data=pandas.concat([final_complete_data,final_missing],axis=0)\n"
   ]
  },
  {
   "cell_type": "code",
   "execution_count": 97,
   "id": "bfa4c458",
   "metadata": {},
   "outputs": [],
   "source": [
    "median_overall=numpy.median(final2_complete_data[\"overall\"])\n",
    "median_shot_rating=numpy.median(final2_complete_data[\"shot_rating\"])"
   ]
  },
  {
   "cell_type": "code",
   "execution_count": 98,
   "id": "e5df7113",
   "metadata": {},
   "outputs": [],
   "source": [
    "final2_complete_data[\"overall\"]=final2_complete_data[\"overall\"].replace(1,median_overall)\n",
    "final2_complete_data[\"shot_rating\"]=final2_complete_data[\"shot_rating\"].replace(1,median_shot_rating)\n"
   ]
  },
  {
   "cell_type": "code",
   "execution_count": 100,
   "id": "4debb85f",
   "metadata": {},
   "outputs": [
    {
     "data": {
      "text/html": [
       "<div>\n",
       "<style scoped>\n",
       "    .dataframe tbody tr th:only-of-type {\n",
       "        vertical-align: middle;\n",
       "    }\n",
       "\n",
       "    .dataframe tbody tr th {\n",
       "        vertical-align: top;\n",
       "    }\n",
       "\n",
       "    .dataframe thead th {\n",
       "        text-align: right;\n",
       "    }\n",
       "</style>\n",
       "<table border=\"1\" class=\"dataframe\">\n",
       "  <thead>\n",
       "    <tr style=\"text-align: right;\">\n",
       "      <th></th>\n",
       "      <th>time</th>\n",
       "      <th>player</th>\n",
       "      <th>shot_place</th>\n",
       "      <th>shot_outcome</th>\n",
       "      <th>is_goal</th>\n",
       "      <th>location</th>\n",
       "      <th>bodypart</th>\n",
       "      <th>assist_method</th>\n",
       "      <th>situation</th>\n",
       "      <th>fast_break</th>\n",
       "      <th>overall</th>\n",
       "      <th>shot_rating</th>\n",
       "    </tr>\n",
       "  </thead>\n",
       "  <tbody>\n",
       "    <tr>\n",
       "      <th>18</th>\n",
       "      <td>25</td>\n",
       "      <td>s. kagawa</td>\n",
       "      <td>7.0</td>\n",
       "      <td>4.0</td>\n",
       "      <td>0</td>\n",
       "      <td>3.0</td>\n",
       "      <td>1.0</td>\n",
       "      <td>1</td>\n",
       "      <td>1.0</td>\n",
       "      <td>0</td>\n",
       "      <td>82</td>\n",
       "      <td>67</td>\n",
       "    </tr>\n",
       "    <tr>\n",
       "      <th>22</th>\n",
       "      <td>26</td>\n",
       "      <td>m. hummels</td>\n",
       "      <td>5.0</td>\n",
       "      <td>1.0</td>\n",
       "      <td>0</td>\n",
       "      <td>3.0</td>\n",
       "      <td>3.0</td>\n",
       "      <td>2</td>\n",
       "      <td>1.0</td>\n",
       "      <td>0</td>\n",
       "      <td>86</td>\n",
       "      <td>58</td>\n",
       "    </tr>\n",
       "    <tr>\n",
       "      <th>26</th>\n",
       "      <td>29</td>\n",
       "      <td>m. gotze</td>\n",
       "      <td>5.0</td>\n",
       "      <td>1.0</td>\n",
       "      <td>1</td>\n",
       "      <td>3.0</td>\n",
       "      <td>1.0</td>\n",
       "      <td>1</td>\n",
       "      <td>1.0</td>\n",
       "      <td>0</td>\n",
       "      <td>84</td>\n",
       "      <td>73</td>\n",
       "    </tr>\n",
       "    <tr>\n",
       "      <th>92</th>\n",
       "      <td>80</td>\n",
       "      <td>r. tesche</td>\n",
       "      <td>3.0</td>\n",
       "      <td>1.0</td>\n",
       "      <td>1</td>\n",
       "      <td>3.0</td>\n",
       "      <td>2.0</td>\n",
       "      <td>0</td>\n",
       "      <td>3.0</td>\n",
       "      <td>0</td>\n",
       "      <td>71</td>\n",
       "      <td>67</td>\n",
       "    </tr>\n",
       "    <tr>\n",
       "      <th>147</th>\n",
       "      <td>24</td>\n",
       "      <td>m. ndjeng</td>\n",
       "      <td>3.0</td>\n",
       "      <td>1.0</td>\n",
       "      <td>0</td>\n",
       "      <td>9.0</td>\n",
       "      <td>1.0</td>\n",
       "      <td>1</td>\n",
       "      <td>1.0</td>\n",
       "      <td>0</td>\n",
       "      <td>70</td>\n",
       "      <td>62</td>\n",
       "    </tr>\n",
       "    <tr>\n",
       "      <th>...</th>\n",
       "      <td>...</td>\n",
       "      <td>...</td>\n",
       "      <td>...</td>\n",
       "      <td>...</td>\n",
       "      <td>...</td>\n",
       "      <td>...</td>\n",
       "      <td>...</td>\n",
       "      <td>...</td>\n",
       "      <td>...</td>\n",
       "      <td>...</td>\n",
       "      <td>...</td>\n",
       "      <td>...</td>\n",
       "    </tr>\n",
       "    <tr>\n",
       "      <th>938774</th>\n",
       "      <td>75</td>\n",
       "      <td>m. malcom</td>\n",
       "      <td>4.0</td>\n",
       "      <td>1.0</td>\n",
       "      <td>0</td>\n",
       "      <td>14.0</td>\n",
       "      <td>2.0</td>\n",
       "      <td>0</td>\n",
       "      <td>2.0</td>\n",
       "      <td>0</td>\n",
       "      <td>76</td>\n",
       "      <td>72</td>\n",
       "    </tr>\n",
       "    <tr>\n",
       "      <th>939407</th>\n",
       "      <td>91</td>\n",
       "      <td>s. niguez</td>\n",
       "      <td>5.0</td>\n",
       "      <td>1.0</td>\n",
       "      <td>0</td>\n",
       "      <td>3.0</td>\n",
       "      <td>1.0</td>\n",
       "      <td>0</td>\n",
       "      <td>1.0</td>\n",
       "      <td>0</td>\n",
       "      <td>71</td>\n",
       "      <td>39</td>\n",
       "    </tr>\n",
       "    <tr>\n",
       "      <th>940114</th>\n",
       "      <td>43</td>\n",
       "      <td>v. iborra</td>\n",
       "      <td>5.0</td>\n",
       "      <td>1.0</td>\n",
       "      <td>1</td>\n",
       "      <td>3.0</td>\n",
       "      <td>2.0</td>\n",
       "      <td>1</td>\n",
       "      <td>1.0</td>\n",
       "      <td>0</td>\n",
       "      <td>73</td>\n",
       "      <td>55</td>\n",
       "    </tr>\n",
       "    <tr>\n",
       "      <th>940139</th>\n",
       "      <td>63</td>\n",
       "      <td>v. iborra</td>\n",
       "      <td>5.0</td>\n",
       "      <td>1.0</td>\n",
       "      <td>1</td>\n",
       "      <td>19.0</td>\n",
       "      <td>1.0</td>\n",
       "      <td>0</td>\n",
       "      <td>1.0</td>\n",
       "      <td>0</td>\n",
       "      <td>73</td>\n",
       "      <td>55</td>\n",
       "    </tr>\n",
       "    <tr>\n",
       "      <th>940142</th>\n",
       "      <td>65</td>\n",
       "      <td>v. iborra</td>\n",
       "      <td>5.0</td>\n",
       "      <td>1.0</td>\n",
       "      <td>1</td>\n",
       "      <td>3.0</td>\n",
       "      <td>3.0</td>\n",
       "      <td>0</td>\n",
       "      <td>1.0</td>\n",
       "      <td>0</td>\n",
       "      <td>73</td>\n",
       "      <td>55</td>\n",
       "    </tr>\n",
       "  </tbody>\n",
       "</table>\n",
       "<p>32403 rows × 12 columns</p>\n",
       "</div>"
      ],
      "text/plain": [
       "        time      player  shot_place  shot_outcome  is_goal  location  \\\n",
       "18        25   s. kagawa         7.0           4.0        0       3.0   \n",
       "22        26  m. hummels         5.0           1.0        0       3.0   \n",
       "26        29    m. gotze         5.0           1.0        1       3.0   \n",
       "92        80   r. tesche         3.0           1.0        1       3.0   \n",
       "147       24   m. ndjeng         3.0           1.0        0       9.0   \n",
       "...      ...         ...         ...           ...      ...       ...   \n",
       "938774    75   m. malcom         4.0           1.0        0      14.0   \n",
       "939407    91   s. niguez         5.0           1.0        0       3.0   \n",
       "940114    43   v. iborra         5.0           1.0        1       3.0   \n",
       "940139    63   v. iborra         5.0           1.0        1      19.0   \n",
       "940142    65   v. iborra         5.0           1.0        1       3.0   \n",
       "\n",
       "        bodypart  assist_method  situation  fast_break  overall  shot_rating  \n",
       "18           1.0              1        1.0           0       82           67  \n",
       "22           3.0              2        1.0           0       86           58  \n",
       "26           1.0              1        1.0           0       84           73  \n",
       "92           2.0              0        3.0           0       71           67  \n",
       "147          1.0              1        1.0           0       70           62  \n",
       "...          ...            ...        ...         ...      ...          ...  \n",
       "938774       2.0              0        2.0           0       76           72  \n",
       "939407       1.0              0        1.0           0       71           39  \n",
       "940114       2.0              1        1.0           0       73           55  \n",
       "940139       1.0              0        1.0           0       73           55  \n",
       "940142       3.0              0        1.0           0       73           55  \n",
       "\n",
       "[32403 rows x 12 columns]"
      ]
     },
     "execution_count": 100,
     "metadata": {},
     "output_type": "execute_result"
    }
   ],
   "source": [
    "final2_complete_data"
   ]
  },
  {
   "cell_type": "code",
   "execution_count": 101,
   "id": "5f9bf98e",
   "metadata": {},
   "outputs": [],
   "source": [
    "final2_complete_data.to_excel(\"completed_data.xlsx\")"
   ]
  },
  {
   "cell_type": "code",
   "execution_count": null,
   "id": "3b5c658d",
   "metadata": {},
   "outputs": [],
   "source": []
  }
 ],
 "metadata": {
  "kernelspec": {
   "display_name": "Python 3 (ipykernel)",
   "language": "python",
   "name": "python3"
  },
  "language_info": {
   "codemirror_mode": {
    "name": "ipython",
    "version": 3
   },
   "file_extension": ".py",
   "mimetype": "text/x-python",
   "name": "python",
   "nbconvert_exporter": "python",
   "pygments_lexer": "ipython3",
   "version": "3.9.12"
  }
 },
 "nbformat": 4,
 "nbformat_minor": 5
}
